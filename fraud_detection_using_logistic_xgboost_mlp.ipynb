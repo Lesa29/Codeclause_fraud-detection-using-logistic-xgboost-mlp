{
  "cells": [
    {
      "cell_type": "markdown",
      "source": [
        "**# AUTHOR: LESA ASHRAF**"
      ],
      "metadata": {
        "id": "oOoz8PIJl-FN"
      },
      "id": "oOoz8PIJl-FN"
    },
    {
      "cell_type": "markdown",
      "source": [
        "**TASK ONE:CREDIT CARD FRAUD** **DETECTION**"
      ],
      "metadata": {
        "id": "D5UCGjkTp5tH"
      },
      "id": "D5UCGjkTp5tH"
    },
    {
      "cell_type": "code",
      "execution_count": 1,
      "id": "af8a243c",
      "metadata": {
        "_cell_guid": "b1076dfc-b9ad-4769-8c92-a6c4dae69d19",
        "_uuid": "8f2839f25d086af736a60e9eeb907d3b93b6e0e5",
        "execution": {
          "iopub.execute_input": "2023-04-03T21:44:45.443001Z",
          "iopub.status.busy": "2023-04-03T21:44:45.442605Z",
          "iopub.status.idle": "2023-04-03T21:44:45.464063Z",
          "shell.execute_reply": "2023-04-03T21:44:45.463030Z"
        },
        "papermill": {
          "duration": 0.035797,
          "end_time": "2023-04-03T21:44:45.467213",
          "exception": false,
          "start_time": "2023-04-03T21:44:45.431416",
          "status": "completed"
        },
        "tags": [],
        "id": "af8a243c"
      },
      "outputs": [],
      "source": [
        "\n",
        "\n",
        "import numpy as np # linear algebra\n",
        "import pandas as pd # data processing, CSV file I/O (e.g. pd.read_csv)\n",
        "import os\n"
      ]
    },
    {
      "cell_type": "markdown",
      "source": [
        "The following processes are being performed in order to obtain the result:\n",
        "1. Undersampling\n",
        "2. Train Test\n",
        "3. Scaling\n",
        "4. Logistic Regression\n",
        "5. Neural Network Model"
      ],
      "metadata": {
        "id": "Of4J-4q7X_hk"
      },
      "id": "Of4J-4q7X_hk"
    },
    {
      "cell_type": "code",
      "execution_count": 2,
      "id": "a0c4a072",
      "metadata": {
        "execution": {
          "iopub.execute_input": "2023-04-03T21:44:45.485397Z",
          "iopub.status.busy": "2023-04-03T21:44:45.484970Z",
          "iopub.status.idle": "2023-04-03T21:44:46.771426Z",
          "shell.execute_reply": "2023-04-03T21:44:46.770212Z"
        },
        "papermill": {
          "duration": 1.298595,
          "end_time": "2023-04-03T21:44:46.774170",
          "exception": false,
          "start_time": "2023-04-03T21:44:45.475575",
          "status": "completed"
        },
        "tags": [],
        "id": "a0c4a072"
      },
      "outputs": [],
      "source": [
        "import matplotlib.pyplot as plt\n",
        "import seaborn as sns\n",
        "%matplotlib inline\n",
        "import warnings\n",
        "warnings.filterwarnings('ignore')"
      ]
    },
    {
      "cell_type": "markdown",
      "source": [
        "read"
      ],
      "metadata": {
        "id": "yLPHPOawm3eA"
      },
      "id": "yLPHPOawm3eA"
    },
    {
      "cell_type": "code",
      "execution_count": 1,
      "id": "5814dee8",
      "metadata": {
        "execution": {
          "iopub.execute_input": "2023-04-03T21:44:46.792653Z",
          "iopub.status.busy": "2023-04-03T21:44:46.792170Z",
          "iopub.status.idle": "2023-04-03T21:44:51.538016Z",
          "shell.execute_reply": "2023-04-03T21:44:51.536578Z"
        },
        "papermill": {
          "duration": 4.758445,
          "end_time": "2023-04-03T21:44:51.540826",
          "exception": false,
          "start_time": "2023-04-03T21:44:46.782381",
          "status": "completed"
        },
        "tags": [],
        "id": "5814dee8",
        "colab": {
          "base_uri": "https://localhost:8080/",
          "height": 165
        },
        "outputId": "bc75249a-545f-4d50-ca04-d4c05453d2da"
      },
      "outputs": [
        {
          "output_type": "error",
          "ename": "NameError",
          "evalue": "ignored",
          "traceback": [
            "\u001b[0;31m---------------------------------------------------------------------------\u001b[0m",
            "\u001b[0;31mNameError\u001b[0m                                 Traceback (most recent call last)",
            "\u001b[0;32m<ipython-input-1-f1a23b92a1f9>\u001b[0m in \u001b[0;36m<cell line: 1>\u001b[0;34m()\u001b[0m\n\u001b[0;32m----> 1\u001b[0;31m \u001b[0mdf\u001b[0m \u001b[0;34m=\u001b[0m \u001b[0mpd\u001b[0m\u001b[0;34m.\u001b[0m\u001b[0mread_csv\u001b[0m\u001b[0;34m(\u001b[0m\u001b[0;34m'./creditcard.csv'\u001b[0m\u001b[0;34m)\u001b[0m\u001b[0;34m\u001b[0m\u001b[0;34m\u001b[0m\u001b[0m\n\u001b[0m",
            "\u001b[0;31mNameError\u001b[0m: name 'pd' is not defined"
          ]
        }
      ],
      "source": [
        "df = pd.read_csv('./creditcard.csv')"
      ]
    },
    {
      "cell_type": "code",
      "execution_count": 4,
      "id": "1b9ced40",
      "metadata": {
        "execution": {
          "iopub.execute_input": "2023-04-03T21:44:51.559152Z",
          "iopub.status.busy": "2023-04-03T21:44:51.558700Z",
          "iopub.status.idle": "2023-04-03T21:44:51.605640Z",
          "shell.execute_reply": "2023-04-03T21:44:51.604028Z"
        },
        "papermill": {
          "duration": 0.059627,
          "end_time": "2023-04-03T21:44:51.608660",
          "exception": false,
          "start_time": "2023-04-03T21:44:51.549033",
          "status": "completed"
        },
        "tags": [],
        "colab": {
          "base_uri": "https://localhost:8080/",
          "height": 300
        },
        "id": "1b9ced40",
        "outputId": "d5b870fc-bf6b-4807-e58d-1c00384d365d"
      },
      "outputs": [
        {
          "output_type": "execute_result",
          "data": {
            "text/plain": [
              "   Time        V1        V2        V3        V4        V5        V6        V7  \\\n",
              "0   0.0 -1.359807 -0.072781  2.536347  1.378155 -0.338321  0.462388  0.239599   \n",
              "1   0.0  1.191857  0.266151  0.166480  0.448154  0.060018 -0.082361 -0.078803   \n",
              "2   1.0 -1.358354 -1.340163  1.773209  0.379780 -0.503198  1.800499  0.791461   \n",
              "3   1.0 -0.966272 -0.185226  1.792993 -0.863291 -0.010309  1.247203  0.237609   \n",
              "4   2.0 -1.158233  0.877737  1.548718  0.403034 -0.407193  0.095921  0.592941   \n",
              "\n",
              "         V8        V9  ...       V21       V22       V23       V24       V25  \\\n",
              "0  0.098698  0.363787  ... -0.018307  0.277838 -0.110474  0.066928  0.128539   \n",
              "1  0.085102 -0.255425  ... -0.225775 -0.638672  0.101288 -0.339846  0.167170   \n",
              "2  0.247676 -1.514654  ...  0.247998  0.771679  0.909412 -0.689281 -0.327642   \n",
              "3  0.377436 -1.387024  ... -0.108300  0.005274 -0.190321 -1.175575  0.647376   \n",
              "4 -0.270533  0.817739  ... -0.009431  0.798278 -0.137458  0.141267 -0.206010   \n",
              "\n",
              "        V26       V27       V28  Amount  Class  \n",
              "0 -0.189115  0.133558 -0.021053  149.62      0  \n",
              "1  0.125895 -0.008983  0.014724    2.69      0  \n",
              "2 -0.139097 -0.055353 -0.059752  378.66      0  \n",
              "3 -0.221929  0.062723  0.061458  123.50      0  \n",
              "4  0.502292  0.219422  0.215153   69.99      0  \n",
              "\n",
              "[5 rows x 31 columns]"
            ],
            "text/html": [
              "\n",
              "  <div id=\"df-420fd596-0433-43d2-ae4a-1a4b8bd783e3\">\n",
              "    <div class=\"colab-df-container\">\n",
              "      <div>\n",
              "<style scoped>\n",
              "    .dataframe tbody tr th:only-of-type {\n",
              "        vertical-align: middle;\n",
              "    }\n",
              "\n",
              "    .dataframe tbody tr th {\n",
              "        vertical-align: top;\n",
              "    }\n",
              "\n",
              "    .dataframe thead th {\n",
              "        text-align: right;\n",
              "    }\n",
              "</style>\n",
              "<table border=\"1\" class=\"dataframe\">\n",
              "  <thead>\n",
              "    <tr style=\"text-align: right;\">\n",
              "      <th></th>\n",
              "      <th>Time</th>\n",
              "      <th>V1</th>\n",
              "      <th>V2</th>\n",
              "      <th>V3</th>\n",
              "      <th>V4</th>\n",
              "      <th>V5</th>\n",
              "      <th>V6</th>\n",
              "      <th>V7</th>\n",
              "      <th>V8</th>\n",
              "      <th>V9</th>\n",
              "      <th>...</th>\n",
              "      <th>V21</th>\n",
              "      <th>V22</th>\n",
              "      <th>V23</th>\n",
              "      <th>V24</th>\n",
              "      <th>V25</th>\n",
              "      <th>V26</th>\n",
              "      <th>V27</th>\n",
              "      <th>V28</th>\n",
              "      <th>Amount</th>\n",
              "      <th>Class</th>\n",
              "    </tr>\n",
              "  </thead>\n",
              "  <tbody>\n",
              "    <tr>\n",
              "      <th>0</th>\n",
              "      <td>0.0</td>\n",
              "      <td>-1.359807</td>\n",
              "      <td>-0.072781</td>\n",
              "      <td>2.536347</td>\n",
              "      <td>1.378155</td>\n",
              "      <td>-0.338321</td>\n",
              "      <td>0.462388</td>\n",
              "      <td>0.239599</td>\n",
              "      <td>0.098698</td>\n",
              "      <td>0.363787</td>\n",
              "      <td>...</td>\n",
              "      <td>-0.018307</td>\n",
              "      <td>0.277838</td>\n",
              "      <td>-0.110474</td>\n",
              "      <td>0.066928</td>\n",
              "      <td>0.128539</td>\n",
              "      <td>-0.189115</td>\n",
              "      <td>0.133558</td>\n",
              "      <td>-0.021053</td>\n",
              "      <td>149.62</td>\n",
              "      <td>0</td>\n",
              "    </tr>\n",
              "    <tr>\n",
              "      <th>1</th>\n",
              "      <td>0.0</td>\n",
              "      <td>1.191857</td>\n",
              "      <td>0.266151</td>\n",
              "      <td>0.166480</td>\n",
              "      <td>0.448154</td>\n",
              "      <td>0.060018</td>\n",
              "      <td>-0.082361</td>\n",
              "      <td>-0.078803</td>\n",
              "      <td>0.085102</td>\n",
              "      <td>-0.255425</td>\n",
              "      <td>...</td>\n",
              "      <td>-0.225775</td>\n",
              "      <td>-0.638672</td>\n",
              "      <td>0.101288</td>\n",
              "      <td>-0.339846</td>\n",
              "      <td>0.167170</td>\n",
              "      <td>0.125895</td>\n",
              "      <td>-0.008983</td>\n",
              "      <td>0.014724</td>\n",
              "      <td>2.69</td>\n",
              "      <td>0</td>\n",
              "    </tr>\n",
              "    <tr>\n",
              "      <th>2</th>\n",
              "      <td>1.0</td>\n",
              "      <td>-1.358354</td>\n",
              "      <td>-1.340163</td>\n",
              "      <td>1.773209</td>\n",
              "      <td>0.379780</td>\n",
              "      <td>-0.503198</td>\n",
              "      <td>1.800499</td>\n",
              "      <td>0.791461</td>\n",
              "      <td>0.247676</td>\n",
              "      <td>-1.514654</td>\n",
              "      <td>...</td>\n",
              "      <td>0.247998</td>\n",
              "      <td>0.771679</td>\n",
              "      <td>0.909412</td>\n",
              "      <td>-0.689281</td>\n",
              "      <td>-0.327642</td>\n",
              "      <td>-0.139097</td>\n",
              "      <td>-0.055353</td>\n",
              "      <td>-0.059752</td>\n",
              "      <td>378.66</td>\n",
              "      <td>0</td>\n",
              "    </tr>\n",
              "    <tr>\n",
              "      <th>3</th>\n",
              "      <td>1.0</td>\n",
              "      <td>-0.966272</td>\n",
              "      <td>-0.185226</td>\n",
              "      <td>1.792993</td>\n",
              "      <td>-0.863291</td>\n",
              "      <td>-0.010309</td>\n",
              "      <td>1.247203</td>\n",
              "      <td>0.237609</td>\n",
              "      <td>0.377436</td>\n",
              "      <td>-1.387024</td>\n",
              "      <td>...</td>\n",
              "      <td>-0.108300</td>\n",
              "      <td>0.005274</td>\n",
              "      <td>-0.190321</td>\n",
              "      <td>-1.175575</td>\n",
              "      <td>0.647376</td>\n",
              "      <td>-0.221929</td>\n",
              "      <td>0.062723</td>\n",
              "      <td>0.061458</td>\n",
              "      <td>123.50</td>\n",
              "      <td>0</td>\n",
              "    </tr>\n",
              "    <tr>\n",
              "      <th>4</th>\n",
              "      <td>2.0</td>\n",
              "      <td>-1.158233</td>\n",
              "      <td>0.877737</td>\n",
              "      <td>1.548718</td>\n",
              "      <td>0.403034</td>\n",
              "      <td>-0.407193</td>\n",
              "      <td>0.095921</td>\n",
              "      <td>0.592941</td>\n",
              "      <td>-0.270533</td>\n",
              "      <td>0.817739</td>\n",
              "      <td>...</td>\n",
              "      <td>-0.009431</td>\n",
              "      <td>0.798278</td>\n",
              "      <td>-0.137458</td>\n",
              "      <td>0.141267</td>\n",
              "      <td>-0.206010</td>\n",
              "      <td>0.502292</td>\n",
              "      <td>0.219422</td>\n",
              "      <td>0.215153</td>\n",
              "      <td>69.99</td>\n",
              "      <td>0</td>\n",
              "    </tr>\n",
              "  </tbody>\n",
              "</table>\n",
              "<p>5 rows × 31 columns</p>\n",
              "</div>\n",
              "      <button class=\"colab-df-convert\" onclick=\"convertToInteractive('df-420fd596-0433-43d2-ae4a-1a4b8bd783e3')\"\n",
              "              title=\"Convert this dataframe to an interactive table.\"\n",
              "              style=\"display:none;\">\n",
              "        \n",
              "  <svg xmlns=\"http://www.w3.org/2000/svg\" height=\"24px\"viewBox=\"0 0 24 24\"\n",
              "       width=\"24px\">\n",
              "    <path d=\"M0 0h24v24H0V0z\" fill=\"none\"/>\n",
              "    <path d=\"M18.56 5.44l.94 2.06.94-2.06 2.06-.94-2.06-.94-.94-2.06-.94 2.06-2.06.94zm-11 1L8.5 8.5l.94-2.06 2.06-.94-2.06-.94L8.5 2.5l-.94 2.06-2.06.94zm10 10l.94 2.06.94-2.06 2.06-.94-2.06-.94-.94-2.06-.94 2.06-2.06.94z\"/><path d=\"M17.41 7.96l-1.37-1.37c-.4-.4-.92-.59-1.43-.59-.52 0-1.04.2-1.43.59L10.3 9.45l-7.72 7.72c-.78.78-.78 2.05 0 2.83L4 21.41c.39.39.9.59 1.41.59.51 0 1.02-.2 1.41-.59l7.78-7.78 2.81-2.81c.8-.78.8-2.07 0-2.86zM5.41 20L4 18.59l7.72-7.72 1.47 1.35L5.41 20z\"/>\n",
              "  </svg>\n",
              "      </button>\n",
              "      \n",
              "  <style>\n",
              "    .colab-df-container {\n",
              "      display:flex;\n",
              "      flex-wrap:wrap;\n",
              "      gap: 12px;\n",
              "    }\n",
              "\n",
              "    .colab-df-convert {\n",
              "      background-color: #E8F0FE;\n",
              "      border: none;\n",
              "      border-radius: 50%;\n",
              "      cursor: pointer;\n",
              "      display: none;\n",
              "      fill: #1967D2;\n",
              "      height: 32px;\n",
              "      padding: 0 0 0 0;\n",
              "      width: 32px;\n",
              "    }\n",
              "\n",
              "    .colab-df-convert:hover {\n",
              "      background-color: #E2EBFA;\n",
              "      box-shadow: 0px 1px 2px rgba(60, 64, 67, 0.3), 0px 1px 3px 1px rgba(60, 64, 67, 0.15);\n",
              "      fill: #174EA6;\n",
              "    }\n",
              "\n",
              "    [theme=dark] .colab-df-convert {\n",
              "      background-color: #3B4455;\n",
              "      fill: #D2E3FC;\n",
              "    }\n",
              "\n",
              "    [theme=dark] .colab-df-convert:hover {\n",
              "      background-color: #434B5C;\n",
              "      box-shadow: 0px 1px 3px 1px rgba(0, 0, 0, 0.15);\n",
              "      filter: drop-shadow(0px 1px 2px rgba(0, 0, 0, 0.3));\n",
              "      fill: #FFFFFF;\n",
              "    }\n",
              "  </style>\n",
              "\n",
              "      <script>\n",
              "        const buttonEl =\n",
              "          document.querySelector('#df-420fd596-0433-43d2-ae4a-1a4b8bd783e3 button.colab-df-convert');\n",
              "        buttonEl.style.display =\n",
              "          google.colab.kernel.accessAllowed ? 'block' : 'none';\n",
              "\n",
              "        async function convertToInteractive(key) {\n",
              "          const element = document.querySelector('#df-420fd596-0433-43d2-ae4a-1a4b8bd783e3');\n",
              "          const dataTable =\n",
              "            await google.colab.kernel.invokeFunction('convertToInteractive',\n",
              "                                                     [key], {});\n",
              "          if (!dataTable) return;\n",
              "\n",
              "          const docLinkHtml = 'Like what you see? Visit the ' +\n",
              "            '<a target=\"_blank\" href=https://colab.research.google.com/notebooks/data_table.ipynb>data table notebook</a>'\n",
              "            + ' to learn more about interactive tables.';\n",
              "          element.innerHTML = '';\n",
              "          dataTable['output_type'] = 'display_data';\n",
              "          await google.colab.output.renderOutput(dataTable, element);\n",
              "          const docLink = document.createElement('div');\n",
              "          docLink.innerHTML = docLinkHtml;\n",
              "          element.appendChild(docLink);\n",
              "        }\n",
              "      </script>\n",
              "    </div>\n",
              "  </div>\n",
              "  "
            ]
          },
          "metadata": {},
          "execution_count": 4
        }
      ],
      "source": [
        "df.head()"
      ]
    },
    {
      "cell_type": "code",
      "execution_count": 5,
      "id": "0fef3428",
      "metadata": {
        "execution": {
          "iopub.execute_input": "2023-04-03T21:44:51.628816Z",
          "iopub.status.busy": "2023-04-03T21:44:51.628410Z",
          "iopub.status.idle": "2023-04-03T21:44:51.657588Z",
          "shell.execute_reply": "2023-04-03T21:44:51.656272Z"
        },
        "papermill": {
          "duration": 0.04203,
          "end_time": "2023-04-03T21:44:51.660315",
          "exception": false,
          "start_time": "2023-04-03T21:44:51.618285",
          "status": "completed"
        },
        "tags": [],
        "colab": {
          "base_uri": "https://localhost:8080/",
          "height": 300
        },
        "id": "0fef3428",
        "outputId": "2c0be783-174e-43df-cbee-48e8c366c38b"
      },
      "outputs": [
        {
          "output_type": "execute_result",
          "data": {
            "text/plain": [
              "   Time        V1        V2        V3        V4        V5        V6        V7  \\\n",
              "0   0.0 -1.359807 -0.072781  2.536347  1.378155 -0.338321  0.462388  0.239599   \n",
              "1   0.0  1.191857  0.266151  0.166480  0.448154  0.060018 -0.082361 -0.078803   \n",
              "2   1.0 -1.358354 -1.340163  1.773209  0.379780 -0.503198  1.800499  0.791461   \n",
              "3   1.0 -0.966272 -0.185226  1.792993 -0.863291 -0.010309  1.247203  0.237609   \n",
              "4   2.0 -1.158233  0.877737  1.548718  0.403034 -0.407193  0.095921  0.592941   \n",
              "\n",
              "         V8        V9  ...       V21       V22       V23       V24       V25  \\\n",
              "0  0.098698  0.363787  ... -0.018307  0.277838 -0.110474  0.066928  0.128539   \n",
              "1  0.085102 -0.255425  ... -0.225775 -0.638672  0.101288 -0.339846  0.167170   \n",
              "2  0.247676 -1.514654  ...  0.247998  0.771679  0.909412 -0.689281 -0.327642   \n",
              "3  0.377436 -1.387024  ... -0.108300  0.005274 -0.190321 -1.175575  0.647376   \n",
              "4 -0.270533  0.817739  ... -0.009431  0.798278 -0.137458  0.141267 -0.206010   \n",
              "\n",
              "        V26       V27       V28  Amount  Class  \n",
              "0 -0.189115  0.133558 -0.021053  149.62      0  \n",
              "1  0.125895 -0.008983  0.014724    2.69      0  \n",
              "2 -0.139097 -0.055353 -0.059752  378.66      0  \n",
              "3 -0.221929  0.062723  0.061458  123.50      0  \n",
              "4  0.502292  0.219422  0.215153   69.99      0  \n",
              "\n",
              "[5 rows x 31 columns]"
            ],
            "text/html": [
              "\n",
              "  <div id=\"df-ffad7811-f47c-40e4-848f-b6565583f7c3\">\n",
              "    <div class=\"colab-df-container\">\n",
              "      <div>\n",
              "<style scoped>\n",
              "    .dataframe tbody tr th:only-of-type {\n",
              "        vertical-align: middle;\n",
              "    }\n",
              "\n",
              "    .dataframe tbody tr th {\n",
              "        vertical-align: top;\n",
              "    }\n",
              "\n",
              "    .dataframe thead th {\n",
              "        text-align: right;\n",
              "    }\n",
              "</style>\n",
              "<table border=\"1\" class=\"dataframe\">\n",
              "  <thead>\n",
              "    <tr style=\"text-align: right;\">\n",
              "      <th></th>\n",
              "      <th>Time</th>\n",
              "      <th>V1</th>\n",
              "      <th>V2</th>\n",
              "      <th>V3</th>\n",
              "      <th>V4</th>\n",
              "      <th>V5</th>\n",
              "      <th>V6</th>\n",
              "      <th>V7</th>\n",
              "      <th>V8</th>\n",
              "      <th>V9</th>\n",
              "      <th>...</th>\n",
              "      <th>V21</th>\n",
              "      <th>V22</th>\n",
              "      <th>V23</th>\n",
              "      <th>V24</th>\n",
              "      <th>V25</th>\n",
              "      <th>V26</th>\n",
              "      <th>V27</th>\n",
              "      <th>V28</th>\n",
              "      <th>Amount</th>\n",
              "      <th>Class</th>\n",
              "    </tr>\n",
              "  </thead>\n",
              "  <tbody>\n",
              "    <tr>\n",
              "      <th>0</th>\n",
              "      <td>0.0</td>\n",
              "      <td>-1.359807</td>\n",
              "      <td>-0.072781</td>\n",
              "      <td>2.536347</td>\n",
              "      <td>1.378155</td>\n",
              "      <td>-0.338321</td>\n",
              "      <td>0.462388</td>\n",
              "      <td>0.239599</td>\n",
              "      <td>0.098698</td>\n",
              "      <td>0.363787</td>\n",
              "      <td>...</td>\n",
              "      <td>-0.018307</td>\n",
              "      <td>0.277838</td>\n",
              "      <td>-0.110474</td>\n",
              "      <td>0.066928</td>\n",
              "      <td>0.128539</td>\n",
              "      <td>-0.189115</td>\n",
              "      <td>0.133558</td>\n",
              "      <td>-0.021053</td>\n",
              "      <td>149.62</td>\n",
              "      <td>0</td>\n",
              "    </tr>\n",
              "    <tr>\n",
              "      <th>1</th>\n",
              "      <td>0.0</td>\n",
              "      <td>1.191857</td>\n",
              "      <td>0.266151</td>\n",
              "      <td>0.166480</td>\n",
              "      <td>0.448154</td>\n",
              "      <td>0.060018</td>\n",
              "      <td>-0.082361</td>\n",
              "      <td>-0.078803</td>\n",
              "      <td>0.085102</td>\n",
              "      <td>-0.255425</td>\n",
              "      <td>...</td>\n",
              "      <td>-0.225775</td>\n",
              "      <td>-0.638672</td>\n",
              "      <td>0.101288</td>\n",
              "      <td>-0.339846</td>\n",
              "      <td>0.167170</td>\n",
              "      <td>0.125895</td>\n",
              "      <td>-0.008983</td>\n",
              "      <td>0.014724</td>\n",
              "      <td>2.69</td>\n",
              "      <td>0</td>\n",
              "    </tr>\n",
              "    <tr>\n",
              "      <th>2</th>\n",
              "      <td>1.0</td>\n",
              "      <td>-1.358354</td>\n",
              "      <td>-1.340163</td>\n",
              "      <td>1.773209</td>\n",
              "      <td>0.379780</td>\n",
              "      <td>-0.503198</td>\n",
              "      <td>1.800499</td>\n",
              "      <td>0.791461</td>\n",
              "      <td>0.247676</td>\n",
              "      <td>-1.514654</td>\n",
              "      <td>...</td>\n",
              "      <td>0.247998</td>\n",
              "      <td>0.771679</td>\n",
              "      <td>0.909412</td>\n",
              "      <td>-0.689281</td>\n",
              "      <td>-0.327642</td>\n",
              "      <td>-0.139097</td>\n",
              "      <td>-0.055353</td>\n",
              "      <td>-0.059752</td>\n",
              "      <td>378.66</td>\n",
              "      <td>0</td>\n",
              "    </tr>\n",
              "    <tr>\n",
              "      <th>3</th>\n",
              "      <td>1.0</td>\n",
              "      <td>-0.966272</td>\n",
              "      <td>-0.185226</td>\n",
              "      <td>1.792993</td>\n",
              "      <td>-0.863291</td>\n",
              "      <td>-0.010309</td>\n",
              "      <td>1.247203</td>\n",
              "      <td>0.237609</td>\n",
              "      <td>0.377436</td>\n",
              "      <td>-1.387024</td>\n",
              "      <td>...</td>\n",
              "      <td>-0.108300</td>\n",
              "      <td>0.005274</td>\n",
              "      <td>-0.190321</td>\n",
              "      <td>-1.175575</td>\n",
              "      <td>0.647376</td>\n",
              "      <td>-0.221929</td>\n",
              "      <td>0.062723</td>\n",
              "      <td>0.061458</td>\n",
              "      <td>123.50</td>\n",
              "      <td>0</td>\n",
              "    </tr>\n",
              "    <tr>\n",
              "      <th>4</th>\n",
              "      <td>2.0</td>\n",
              "      <td>-1.158233</td>\n",
              "      <td>0.877737</td>\n",
              "      <td>1.548718</td>\n",
              "      <td>0.403034</td>\n",
              "      <td>-0.407193</td>\n",
              "      <td>0.095921</td>\n",
              "      <td>0.592941</td>\n",
              "      <td>-0.270533</td>\n",
              "      <td>0.817739</td>\n",
              "      <td>...</td>\n",
              "      <td>-0.009431</td>\n",
              "      <td>0.798278</td>\n",
              "      <td>-0.137458</td>\n",
              "      <td>0.141267</td>\n",
              "      <td>-0.206010</td>\n",
              "      <td>0.502292</td>\n",
              "      <td>0.219422</td>\n",
              "      <td>0.215153</td>\n",
              "      <td>69.99</td>\n",
              "      <td>0</td>\n",
              "    </tr>\n",
              "  </tbody>\n",
              "</table>\n",
              "<p>5 rows × 31 columns</p>\n",
              "</div>\n",
              "      <button class=\"colab-df-convert\" onclick=\"convertToInteractive('df-ffad7811-f47c-40e4-848f-b6565583f7c3')\"\n",
              "              title=\"Convert this dataframe to an interactive table.\"\n",
              "              style=\"display:none;\">\n",
              "        \n",
              "  <svg xmlns=\"http://www.w3.org/2000/svg\" height=\"24px\"viewBox=\"0 0 24 24\"\n",
              "       width=\"24px\">\n",
              "    <path d=\"M0 0h24v24H0V0z\" fill=\"none\"/>\n",
              "    <path d=\"M18.56 5.44l.94 2.06.94-2.06 2.06-.94-2.06-.94-.94-2.06-.94 2.06-2.06.94zm-11 1L8.5 8.5l.94-2.06 2.06-.94-2.06-.94L8.5 2.5l-.94 2.06-2.06.94zm10 10l.94 2.06.94-2.06 2.06-.94-2.06-.94-.94-2.06-.94 2.06-2.06.94z\"/><path d=\"M17.41 7.96l-1.37-1.37c-.4-.4-.92-.59-1.43-.59-.52 0-1.04.2-1.43.59L10.3 9.45l-7.72 7.72c-.78.78-.78 2.05 0 2.83L4 21.41c.39.39.9.59 1.41.59.51 0 1.02-.2 1.41-.59l7.78-7.78 2.81-2.81c.8-.78.8-2.07 0-2.86zM5.41 20L4 18.59l7.72-7.72 1.47 1.35L5.41 20z\"/>\n",
              "  </svg>\n",
              "      </button>\n",
              "      \n",
              "  <style>\n",
              "    .colab-df-container {\n",
              "      display:flex;\n",
              "      flex-wrap:wrap;\n",
              "      gap: 12px;\n",
              "    }\n",
              "\n",
              "    .colab-df-convert {\n",
              "      background-color: #E8F0FE;\n",
              "      border: none;\n",
              "      border-radius: 50%;\n",
              "      cursor: pointer;\n",
              "      display: none;\n",
              "      fill: #1967D2;\n",
              "      height: 32px;\n",
              "      padding: 0 0 0 0;\n",
              "      width: 32px;\n",
              "    }\n",
              "\n",
              "    .colab-df-convert:hover {\n",
              "      background-color: #E2EBFA;\n",
              "      box-shadow: 0px 1px 2px rgba(60, 64, 67, 0.3), 0px 1px 3px 1px rgba(60, 64, 67, 0.15);\n",
              "      fill: #174EA6;\n",
              "    }\n",
              "\n",
              "    [theme=dark] .colab-df-convert {\n",
              "      background-color: #3B4455;\n",
              "      fill: #D2E3FC;\n",
              "    }\n",
              "\n",
              "    [theme=dark] .colab-df-convert:hover {\n",
              "      background-color: #434B5C;\n",
              "      box-shadow: 0px 1px 3px 1px rgba(0, 0, 0, 0.15);\n",
              "      filter: drop-shadow(0px 1px 2px rgba(0, 0, 0, 0.3));\n",
              "      fill: #FFFFFF;\n",
              "    }\n",
              "  </style>\n",
              "\n",
              "      <script>\n",
              "        const buttonEl =\n",
              "          document.querySelector('#df-ffad7811-f47c-40e4-848f-b6565583f7c3 button.colab-df-convert');\n",
              "        buttonEl.style.display =\n",
              "          google.colab.kernel.accessAllowed ? 'block' : 'none';\n",
              "\n",
              "        async function convertToInteractive(key) {\n",
              "          const element = document.querySelector('#df-ffad7811-f47c-40e4-848f-b6565583f7c3');\n",
              "          const dataTable =\n",
              "            await google.colab.kernel.invokeFunction('convertToInteractive',\n",
              "                                                     [key], {});\n",
              "          if (!dataTable) return;\n",
              "\n",
              "          const docLinkHtml = 'Like what you see? Visit the ' +\n",
              "            '<a target=\"_blank\" href=https://colab.research.google.com/notebooks/data_table.ipynb>data table notebook</a>'\n",
              "            + ' to learn more about interactive tables.';\n",
              "          element.innerHTML = '';\n",
              "          dataTable['output_type'] = 'display_data';\n",
              "          await google.colab.output.renderOutput(dataTable, element);\n",
              "          const docLink = document.createElement('div');\n",
              "          docLink.innerHTML = docLinkHtml;\n",
              "          element.appendChild(docLink);\n",
              "        }\n",
              "      </script>\n",
              "    </div>\n",
              "  </div>\n",
              "  "
            ]
          },
          "metadata": {},
          "execution_count": 5
        }
      ],
      "source": [
        "df.head()"
      ]
    },
    {
      "cell_type": "code",
      "execution_count": 6,
      "id": "3a8cb181",
      "metadata": {
        "execution": {
          "iopub.execute_input": "2023-04-03T21:44:51.679716Z",
          "iopub.status.busy": "2023-04-03T21:44:51.679301Z",
          "iopub.status.idle": "2023-04-03T21:44:51.687051Z",
          "shell.execute_reply": "2023-04-03T21:44:51.685697Z"
        },
        "papermill": {
          "duration": 0.020538,
          "end_time": "2023-04-03T21:44:51.689680",
          "exception": false,
          "start_time": "2023-04-03T21:44:51.669142",
          "status": "completed"
        },
        "tags": [],
        "colab": {
          "base_uri": "https://localhost:8080/"
        },
        "id": "3a8cb181",
        "outputId": "c1b21c01-f473-42bb-b3b3-1d8af9bd9286"
      },
      "outputs": [
        {
          "output_type": "execute_result",
          "data": {
            "text/plain": [
              "(284807, 31)"
            ]
          },
          "metadata": {},
          "execution_count": 6
        }
      ],
      "source": [
        "df.shape"
      ]
    },
    {
      "cell_type": "code",
      "execution_count": 7,
      "id": "36ff0eb9",
      "metadata": {
        "execution": {
          "iopub.execute_input": "2023-04-03T21:44:51.709769Z",
          "iopub.status.busy": "2023-04-03T21:44:51.708933Z",
          "iopub.status.idle": "2023-04-03T21:44:52.014742Z",
          "shell.execute_reply": "2023-04-03T21:44:52.013367Z"
        },
        "papermill": {
          "duration": 0.318908,
          "end_time": "2023-04-03T21:44:52.017562",
          "exception": false,
          "start_time": "2023-04-03T21:44:51.698654",
          "status": "completed"
        },
        "tags": [],
        "colab": {
          "base_uri": "https://localhost:8080/",
          "height": 536
        },
        "id": "36ff0eb9",
        "outputId": "82f62b13-ea72-44e5-f0cb-98e7476446b8"
      },
      "outputs": [
        {
          "output_type": "stream",
          "name": "stdout",
          "text": [
            "0    284315\n",
            "1       492\n",
            "Name: Class, dtype: int64\n",
            "Percentage of Fraud case in the dataset: 0.1727485630620034 %\n"
          ]
        },
        {
          "output_type": "execute_result",
          "data": {
            "text/plain": [
              "<Axes: xlabel='Class', ylabel='count'>"
            ]
          },
          "metadata": {},
          "execution_count": 7
        },
        {
          "output_type": "display_data",
          "data": {
            "text/plain": [
              "<Figure size 640x480 with 1 Axes>"
            ],
            "image/png": "[encoded data removed]"
          },
          "metadata": {}
        }
      ],
      "source": [
        "print(df['Class'].value_counts())\n",
        "\n",
        "print(f\"Percentage of Fraud case in the dataset: {(len(df[df['Class']== 1])/len(df))*100} %\")\n",
        "\n",
        "sns.countplot(data = df, x = 'Class', hue = 'Class')"
      ]
    },
    {
      "cell_type": "markdown",
      "id": "363aa082",
      "metadata": {
        "papermill": {
          "duration": 0.008937,
          "end_time": "2023-04-03T21:44:52.036140",
          "exception": false,
          "start_time": "2023-04-03T21:44:52.027203",
          "status": "completed"
        },
        "tags": [],
        "id": "363aa082"
      },
      "source": [
        "#### Highly Imbalanced dataset"
      ]
    },
    {
      "cell_type": "markdown",
      "id": "e07e80eb",
      "metadata": {
        "papermill": {
          "duration": 0.008835,
          "end_time": "2023-04-03T21:44:52.054098",
          "exception": false,
          "start_time": "2023-04-03T21:44:52.045263",
          "status": "completed"
        },
        "tags": [],
        "id": "e07e80eb"
      },
      "source": [
        "## using undersampling as per the research paper"
      ]
    },
    {
      "cell_type": "markdown",
      "source": [
        "**UNDERSAMPLING:**\n",
        "\n",
        "Undersampling is a technique to balance uneven datasets by keeping all of the data in the minority class and decreasing the size of the majority class.\n"
      ],
      "metadata": {
        "id": "SeVqYbUEaD94"
      },
      "id": "SeVqYbUEaD94"
    },
    {
      "cell_type": "code",
      "execution_count": 8,
      "id": "06ec5250",
      "metadata": {
        "execution": {
          "iopub.execute_input": "2023-04-03T21:44:52.075156Z",
          "iopub.status.busy": "2023-04-03T21:44:52.074298Z",
          "iopub.status.idle": "2023-04-03T21:44:52.282240Z",
          "shell.execute_reply": "2023-04-03T21:44:52.279260Z"
        },
        "papermill": {
          "duration": 0.226745,
          "end_time": "2023-04-03T21:44:52.290164",
          "exception": false,
          "start_time": "2023-04-03T21:44:52.063419",
          "status": "completed"
        },
        "tags": [],
        "id": "06ec5250"
      },
      "outputs": [],
      "source": [
        "from sklearn.utils import resample\n",
        "\n",
        "\n",
        "df_majority = df[df['Class'] == 0]\n",
        "df_minority = df[df['Class'] == 1]"
      ]
    },
    {
      "cell_type": "code",
      "execution_count": 9,
      "id": "6b8983c1",
      "metadata": {
        "execution": {
          "iopub.execute_input": "2023-04-03T21:44:52.321216Z",
          "iopub.status.busy": "2023-04-03T21:44:52.319686Z",
          "iopub.status.idle": "2023-04-03T21:44:52.352013Z",
          "shell.execute_reply": "2023-04-03T21:44:52.349837Z"
        },
        "papermill": {
          "duration": 0.052057,
          "end_time": "2023-04-03T21:44:52.356788",
          "exception": false,
          "start_time": "2023-04-03T21:44:52.304731",
          "status": "completed"
        },
        "tags": [],
        "id": "6b8983c1"
      },
      "outputs": [],
      "source": [
        "df_majority_downsampled = resample(df_majority,\n",
        "                                   replace=False,\n",
        "                                   n_samples=2*df_minority.shape[0],\n",
        "                                   random_state= 25)"
      ]
    },
    {
      "cell_type": "code",
      "execution_count": 10,
      "id": "ec48fa36",
      "metadata": {
        "execution": {
          "iopub.execute_input": "2023-04-03T21:44:52.389649Z",
          "iopub.status.busy": "2023-04-03T21:44:52.389023Z",
          "iopub.status.idle": "2023-04-03T21:44:52.402138Z",
          "shell.execute_reply": "2023-04-03T21:44:52.400264Z"
        },
        "papermill": {
          "duration": 0.035775,
          "end_time": "2023-04-03T21:44:52.406693",
          "exception": false,
          "start_time": "2023-04-03T21:44:52.370918",
          "status": "completed"
        },
        "tags": [],
        "id": "ec48fa36",
        "outputId": "ddfb80f6-e209-46c7-ea50-da4e255d5892",
        "colab": {
          "base_uri": "https://localhost:8080/"
        }
      },
      "outputs": [
        {
          "output_type": "stream",
          "name": "stdout",
          "text": [
            "0    984\n",
            "1    492\n",
            "Name: Class, dtype: int64\n"
          ]
        }
      ],
      "source": [
        "df_balanced = pd.concat([df_majority_downsampled, df_minority])\n",
        "\n",
        "# check the new class distribution\n",
        "print(df_balanced['Class'].value_counts())"
      ]
    },
    {
      "cell_type": "code",
      "execution_count": 11,
      "id": "acaadc9a",
      "metadata": {
        "execution": {
          "iopub.execute_input": "2023-04-03T21:44:52.439047Z",
          "iopub.status.busy": "2023-04-03T21:44:52.438458Z",
          "iopub.status.idle": "2023-04-03T21:44:52.690454Z",
          "shell.execute_reply": "2023-04-03T21:44:52.689063Z"
        },
        "papermill": {
          "duration": 0.271699,
          "end_time": "2023-04-03T21:44:52.693546",
          "exception": false,
          "start_time": "2023-04-03T21:44:52.421847",
          "status": "completed"
        },
        "tags": [],
        "id": "acaadc9a",
        "outputId": "b1c211cb-8b77-4414-b382-de3e4da26844",
        "colab": {
          "base_uri": "https://localhost:8080/",
          "height": 466
        }
      },
      "outputs": [
        {
          "output_type": "execute_result",
          "data": {
            "text/plain": [
              "<Axes: xlabel='Class', ylabel='count'>"
            ]
          },
          "metadata": {},
          "execution_count": 11
        },
        {
          "output_type": "display_data",
          "data": {
            "text/plain": [
              "<Figure size 640x480 with 1 Axes>"
            ],
            "image/png": "[encoded data removed]"
          },
          "metadata": {}
        }
      ],
      "source": [
        "#Plotting aftr Undersampling\n",
        "sns.countplot(data = df_balanced, x = 'Class', hue = 'Class')"
      ]
    },
    {
      "cell_type": "code",
      "execution_count": 12,
      "id": "43389c7c",
      "metadata": {
        "execution": {
          "iopub.execute_input": "2023-04-03T21:44:52.719161Z",
          "iopub.status.busy": "2023-04-03T21:44:52.718148Z",
          "iopub.status.idle": "2023-04-03T21:44:52.749210Z",
          "shell.execute_reply": "2023-04-03T21:44:52.747747Z"
        },
        "papermill": {
          "duration": 0.048629,
          "end_time": "2023-04-03T21:44:52.752283",
          "exception": false,
          "start_time": "2023-04-03T21:44:52.703654",
          "status": "completed"
        },
        "tags": [],
        "id": "43389c7c",
        "outputId": "69e57aea-824e-4152-e74a-852e416066c1",
        "colab": {
          "base_uri": "https://localhost:8080/",
          "height": 300
        }
      },
      "outputs": [
        {
          "output_type": "execute_result",
          "data": {
            "text/plain": [
              "            Time        V1        V2        V3        V4        V5        V6  \\\n",
              "270868  164303.0 -1.097222  0.353235  0.922740 -2.482786 -0.105249 -0.184947   \n",
              "140021   83493.0 -0.630556  0.920834  1.544361 -0.505343  0.282691 -0.792788   \n",
              "20345    30974.0 -1.528035 -0.149136  1.630621  0.321879  0.965413  0.140374   \n",
              "256398  157672.0 -0.984714  1.567510 -1.346594  0.932186  1.561973 -0.202130   \n",
              "161202  113977.0  2.026669 -0.169353 -2.963794 -0.572662  2.602445  3.145164   \n",
              "\n",
              "              V7        V8        V9  ...       V21       V22       V23  \\\n",
              "270868 -0.100673  0.481019 -1.062346  ...  0.164649  0.328810 -0.498031   \n",
              "140021  0.704038  0.070959 -0.672297  ... -0.150666 -0.609634 -0.071476   \n",
              "20345   0.718746  0.291817 -0.562373  ...  0.102693 -0.045641  0.001520   \n",
              "256398  0.964876  0.303447 -0.989686  ...  0.081396  0.447138 -0.020641   \n",
              "161202 -0.407581  0.782573  0.359077  ... -0.348086 -1.000637  0.357306   \n",
              "\n",
              "             V24       V25       V26       V27       V28  Amount  Class  \n",
              "270868 -1.043474  0.924309 -0.052164  0.128869  0.012683   23.80      0  \n",
              "140021  0.255576 -0.271271 -0.084206  0.041023  0.111986    0.99      0  \n",
              "20345  -0.331837  0.756374 -0.396158 -0.018264  0.065365  128.00      0  \n",
              "256398  0.108025  0.155235 -0.407761  0.099543  0.201292   16.10      0  \n",
              "161202  0.605186 -0.267133  0.218923 -0.040534 -0.041566    8.99      0  \n",
              "\n",
              "[5 rows x 31 columns]"
            ],
            "text/html": [
              "\n",
              "  <div id=\"df-d0fea05d-24b4-468b-9031-7b0effb04b7c\">\n",
              "    <div class=\"colab-df-container\">\n",
              "      <div>\n",
              "<style scoped>\n",
              "    .dataframe tbody tr th:only-of-type {\n",
              "        vertical-align: middle;\n",
              "    }\n",
              "\n",
              "    .dataframe tbody tr th {\n",
              "        vertical-align: top;\n",
              "    }\n",
              "\n",
              "    .dataframe thead th {\n",
              "        text-align: right;\n",
              "    }\n",
              "</style>\n",
              "<table border=\"1\" class=\"dataframe\">\n",
              "  <thead>\n",
              "    <tr style=\"text-align: right;\">\n",
              "      <th></th>\n",
              "      <th>Time</th>\n",
              "      <th>V1</th>\n",
              "      <th>V2</th>\n",
              "      <th>V3</th>\n",
              "      <th>V4</th>\n",
              "      <th>V5</th>\n",
              "      <th>V6</th>\n",
              "      <th>V7</th>\n",
              "      <th>V8</th>\n",
              "      <th>V9</th>\n",
              "      <th>...</th>\n",
              "      <th>V21</th>\n",
              "      <th>V22</th>\n",
              "      <th>V23</th>\n",
              "      <th>V24</th>\n",
              "      <th>V25</th>\n",
              "      <th>V26</th>\n",
              "      <th>V27</th>\n",
              "      <th>V28</th>\n",
              "      <th>Amount</th>\n",
              "      <th>Class</th>\n",
              "    </tr>\n",
              "  </thead>\n",
              "  <tbody>\n",
              "    <tr>\n",
              "      <th>270868</th>\n",
              "      <td>164303.0</td>\n",
              "      <td>-1.097222</td>\n",
              "      <td>0.353235</td>\n",
              "      <td>0.922740</td>\n",
              "      <td>-2.482786</td>\n",
              "      <td>-0.105249</td>\n",
              "      <td>-0.184947</td>\n",
              "      <td>-0.100673</td>\n",
              "      <td>0.481019</td>\n",
              "      <td>-1.062346</td>\n",
              "      <td>...</td>\n",
              "      <td>0.164649</td>\n",
              "      <td>0.328810</td>\n",
              "      <td>-0.498031</td>\n",
              "      <td>-1.043474</td>\n",
              "      <td>0.924309</td>\n",
              "      <td>-0.052164</td>\n",
              "      <td>0.128869</td>\n",
              "      <td>0.012683</td>\n",
              "      <td>23.80</td>\n",
              "      <td>0</td>\n",
              "    </tr>\n",
              "    <tr>\n",
              "      <th>140021</th>\n",
              "      <td>83493.0</td>\n",
              "      <td>-0.630556</td>\n",
              "      <td>0.920834</td>\n",
              "      <td>1.544361</td>\n",
              "      <td>-0.505343</td>\n",
              "      <td>0.282691</td>\n",
              "      <td>-0.792788</td>\n",
              "      <td>0.704038</td>\n",
              "      <td>0.070959</td>\n",
              "      <td>-0.672297</td>\n",
              "      <td>...</td>\n",
              "      <td>-0.150666</td>\n",
              "      <td>-0.609634</td>\n",
              "      <td>-0.071476</td>\n",
              "      <td>0.255576</td>\n",
              "      <td>-0.271271</td>\n",
              "      <td>-0.084206</td>\n",
              "      <td>0.041023</td>\n",
              "      <td>0.111986</td>\n",
              "      <td>0.99</td>\n",
              "      <td>0</td>\n",
              "    </tr>\n",
              "    <tr>\n",
              "      <th>20345</th>\n",
              "      <td>30974.0</td>\n",
              "      <td>-1.528035</td>\n",
              "      <td>-0.149136</td>\n",
              "      <td>1.630621</td>\n",
              "      <td>0.321879</td>\n",
              "      <td>0.965413</td>\n",
              "      <td>0.140374</td>\n",
              "      <td>0.718746</td>\n",
              "      <td>0.291817</td>\n",
              "      <td>-0.562373</td>\n",
              "      <td>...</td>\n",
              "      <td>0.102693</td>\n",
              "      <td>-0.045641</td>\n",
              "      <td>0.001520</td>\n",
              "      <td>-0.331837</td>\n",
              "      <td>0.756374</td>\n",
              "      <td>-0.396158</td>\n",
              "      <td>-0.018264</td>\n",
              "      <td>0.065365</td>\n",
              "      <td>128.00</td>\n",
              "      <td>0</td>\n",
              "    </tr>\n",
              "    <tr>\n",
              "      <th>256398</th>\n",
              "      <td>157672.0</td>\n",
              "      <td>-0.984714</td>\n",
              "      <td>1.567510</td>\n",
              "      <td>-1.346594</td>\n",
              "      <td>0.932186</td>\n",
              "      <td>1.561973</td>\n",
              "      <td>-0.202130</td>\n",
              "      <td>0.964876</td>\n",
              "      <td>0.303447</td>\n",
              "      <td>-0.989686</td>\n",
              "      <td>...</td>\n",
              "      <td>0.081396</td>\n",
              "      <td>0.447138</td>\n",
              "      <td>-0.020641</td>\n",
              "      <td>0.108025</td>\n",
              "      <td>0.155235</td>\n",
              "      <td>-0.407761</td>\n",
              "      <td>0.099543</td>\n",
              "      <td>0.201292</td>\n",
              "      <td>16.10</td>\n",
              "      <td>0</td>\n",
              "    </tr>\n",
              "    <tr>\n",
              "      <th>161202</th>\n",
              "      <td>113977.0</td>\n",
              "      <td>2.026669</td>\n",
              "      <td>-0.169353</td>\n",
              "      <td>-2.963794</td>\n",
              "      <td>-0.572662</td>\n",
              "      <td>2.602445</td>\n",
              "      <td>3.145164</td>\n",
              "      <td>-0.407581</td>\n",
              "      <td>0.782573</td>\n",
              "      <td>0.359077</td>\n",
              "      <td>...</td>\n",
              "      <td>-0.348086</td>\n",
              "      <td>-1.000637</td>\n",
              "      <td>0.357306</td>\n",
              "      <td>0.605186</td>\n",
              "      <td>-0.267133</td>\n",
              "      <td>0.218923</td>\n",
              "      <td>-0.040534</td>\n",
              "      <td>-0.041566</td>\n",
              "      <td>8.99</td>\n",
              "      <td>0</td>\n",
              "    </tr>\n",
              "  </tbody>\n",
              "</table>\n",
              "<p>5 rows × 31 columns</p>\n",
              "</div>\n",
              "      <button class=\"colab-df-convert\" onclick=\"convertToInteractive('df-d0fea05d-24b4-468b-9031-7b0effb04b7c')\"\n",
              "              title=\"Convert this dataframe to an interactive table.\"\n",
              "              style=\"display:none;\">\n",
              "        \n",
              "  <svg xmlns=\"http://www.w3.org/2000/svg\" height=\"24px\"viewBox=\"0 0 24 24\"\n",
              "       width=\"24px\">\n",
              "    <path d=\"M0 0h24v24H0V0z\" fill=\"none\"/>\n",
              "    <path d=\"M18.56 5.44l.94 2.06.94-2.06 2.06-.94-2.06-.94-.94-2.06-.94 2.06-2.06.94zm-11 1L8.5 8.5l.94-2.06 2.06-.94-2.06-.94L8.5 2.5l-.94 2.06-2.06.94zm10 10l.94 2.06.94-2.06 2.06-.94-2.06-.94-.94-2.06-.94 2.06-2.06.94z\"/><path d=\"M17.41 7.96l-1.37-1.37c-.4-.4-.92-.59-1.43-.59-.52 0-1.04.2-1.43.59L10.3 9.45l-7.72 7.72c-.78.78-.78 2.05 0 2.83L4 21.41c.39.39.9.59 1.41.59.51 0 1.02-.2 1.41-.59l7.78-7.78 2.81-2.81c.8-.78.8-2.07 0-2.86zM5.41 20L4 18.59l7.72-7.72 1.47 1.35L5.41 20z\"/>\n",
              "  </svg>\n",
              "      </button>\n",
              "      \n",
              "  <style>\n",
              "    .colab-df-container {\n",
              "      display:flex;\n",
              "      flex-wrap:wrap;\n",
              "      gap: 12px;\n",
              "    }\n",
              "\n",
              "    .colab-df-convert {\n",
              "      background-color: #E8F0FE;\n",
              "      border: none;\n",
              "      border-radius: 50%;\n",
              "      cursor: pointer;\n",
              "      display: none;\n",
              "      fill: #1967D2;\n",
              "      height: 32px;\n",
              "      padding: 0 0 0 0;\n",
              "      width: 32px;\n",
              "    }\n",
              "\n",
              "    .colab-df-convert:hover {\n",
              "      background-color: #E2EBFA;\n",
              "      box-shadow: 0px 1px 2px rgba(60, 64, 67, 0.3), 0px 1px 3px 1px rgba(60, 64, 67, 0.15);\n",
              "      fill: #174EA6;\n",
              "    }\n",
              "\n",
              "    [theme=dark] .colab-df-convert {\n",
              "      background-color: #3B4455;\n",
              "      fill: #D2E3FC;\n",
              "    }\n",
              "\n",
              "    [theme=dark] .colab-df-convert:hover {\n",
              "      background-color: #434B5C;\n",
              "      box-shadow: 0px 1px 3px 1px rgba(0, 0, 0, 0.15);\n",
              "      filter: drop-shadow(0px 1px 2px rgba(0, 0, 0, 0.3));\n",
              "      fill: #FFFFFF;\n",
              "    }\n",
              "  </style>\n",
              "\n",
              "      <script>\n",
              "        const buttonEl =\n",
              "          document.querySelector('#df-d0fea05d-24b4-468b-9031-7b0effb04b7c button.colab-df-convert');\n",
              "        buttonEl.style.display =\n",
              "          google.colab.kernel.accessAllowed ? 'block' : 'none';\n",
              "\n",
              "        async function convertToInteractive(key) {\n",
              "          const element = document.querySelector('#df-d0fea05d-24b4-468b-9031-7b0effb04b7c');\n",
              "          const dataTable =\n",
              "            await google.colab.kernel.invokeFunction('convertToInteractive',\n",
              "                                                     [key], {});\n",
              "          if (!dataTable) return;\n",
              "\n",
              "          const docLinkHtml = 'Like what you see? Visit the ' +\n",
              "            '<a target=\"_blank\" href=https://colab.research.google.com/notebooks/data_table.ipynb>data table notebook</a>'\n",
              "            + ' to learn more about interactive tables.';\n",
              "          element.innerHTML = '';\n",
              "          dataTable['output_type'] = 'display_data';\n",
              "          await google.colab.output.renderOutput(dataTable, element);\n",
              "          const docLink = document.createElement('div');\n",
              "          docLink.innerHTML = docLinkHtml;\n",
              "          element.appendChild(docLink);\n",
              "        }\n",
              "      </script>\n",
              "    </div>\n",
              "  </div>\n",
              "  "
            ]
          },
          "metadata": {},
          "execution_count": 12
        }
      ],
      "source": [
        "df_balanced.head()"
      ]
    },
    {
      "cell_type": "markdown",
      "source": [
        "**SCALING:**\n",
        "\n",
        "Feature scaling is a method used to normalize the range of independent variables or features of data. In data processing, it is also known as data normalization and is generally performed during the data preprocessing step."
      ],
      "metadata": {
        "id": "FMAcdAcZaog9"
      },
      "id": "FMAcdAcZaog9"
    },
    {
      "cell_type": "code",
      "execution_count": 13,
      "id": "64b56cac",
      "metadata": {
        "execution": {
          "iopub.execute_input": "2023-04-03T21:44:52.776027Z",
          "iopub.status.busy": "2023-04-03T21:44:52.774744Z",
          "iopub.status.idle": "2023-04-03T21:44:52.826320Z",
          "shell.execute_reply": "2023-04-03T21:44:52.824515Z"
        },
        "papermill": {
          "duration": 0.067454,
          "end_time": "2023-04-03T21:44:52.830258",
          "exception": false,
          "start_time": "2023-04-03T21:44:52.762804",
          "status": "completed"
        },
        "tags": [],
        "id": "64b56cac"
      },
      "outputs": [],
      "source": [
        "from sklearn.preprocessing import StandardScaler\n",
        "\n",
        "sd = StandardScaler()"
      ]
    },
    {
      "cell_type": "code",
      "execution_count": 14,
      "id": "848b5cc2",
      "metadata": {
        "execution": {
          "iopub.execute_input": "2023-04-03T21:44:52.859579Z",
          "iopub.status.busy": "2023-04-03T21:44:52.858902Z",
          "iopub.status.idle": "2023-04-03T21:44:52.867362Z",
          "shell.execute_reply": "2023-04-03T21:44:52.866193Z"
        },
        "papermill": {
          "duration": 0.025578,
          "end_time": "2023-04-03T21:44:52.870473",
          "exception": false,
          "start_time": "2023-04-03T21:44:52.844895",
          "status": "completed"
        },
        "tags": [],
        "id": "848b5cc2"
      },
      "outputs": [],
      "source": [
        "X = df_balanced.drop(['Class'], axis = 1)\n",
        "Y = df_balanced['Class']"
      ]
    },
    {
      "cell_type": "code",
      "execution_count": 15,
      "id": "d99556fd",
      "metadata": {
        "execution": {
          "iopub.execute_input": "2023-04-03T21:44:52.902468Z",
          "iopub.status.busy": "2023-04-03T21:44:52.901122Z",
          "iopub.status.idle": "2023-04-03T21:44:52.909932Z",
          "shell.execute_reply": "2023-04-03T21:44:52.908365Z"
        },
        "papermill": {
          "duration": 0.02667,
          "end_time": "2023-04-03T21:44:52.913067",
          "exception": false,
          "start_time": "2023-04-03T21:44:52.886397",
          "status": "completed"
        },
        "tags": [],
        "id": "d99556fd",
        "outputId": "02566368-c547-4265-d601-0656cad98fe0",
        "colab": {
          "base_uri": "https://localhost:8080/"
        }
      },
      "outputs": [
        {
          "output_type": "stream",
          "name": "stdout",
          "text": [
            "(1476, 30) (1476,)\n"
          ]
        }
      ],
      "source": [
        "print(X.shape, Y.shape)"
      ]
    },
    {
      "cell_type": "code",
      "execution_count": 16,
      "id": "2c535208",
      "metadata": {
        "execution": {
          "iopub.execute_input": "2023-04-03T21:44:52.938872Z",
          "iopub.status.busy": "2023-04-03T21:44:52.937319Z",
          "iopub.status.idle": "2023-04-03T21:44:52.953234Z",
          "shell.execute_reply": "2023-04-03T21:44:52.951721Z"
        },
        "papermill": {
          "duration": 0.032369,
          "end_time": "2023-04-03T21:44:52.956586",
          "exception": false,
          "start_time": "2023-04-03T21:44:52.924217",
          "status": "completed"
        },
        "tags": [],
        "id": "2c535208"
      },
      "outputs": [],
      "source": [
        "X_scaled = sd.fit_transform(X)"
      ]
    },
    {
      "cell_type": "code",
      "execution_count": 17,
      "id": "07f29d2f",
      "metadata": {
        "execution": {
          "iopub.execute_input": "2023-04-03T21:44:52.981544Z",
          "iopub.status.busy": "2023-04-03T21:44:52.979956Z",
          "iopub.status.idle": "2023-04-03T21:44:53.011130Z",
          "shell.execute_reply": "2023-04-03T21:44:53.009499Z"
        },
        "papermill": {
          "duration": 0.048307,
          "end_time": "2023-04-03T21:44:53.015352",
          "exception": false,
          "start_time": "2023-04-03T21:44:52.967045",
          "status": "completed"
        },
        "tags": [],
        "id": "07f29d2f",
        "outputId": "e6a555d4-501d-4169-ec0f-7db411fa0bd6",
        "colab": {
          "base_uri": "https://localhost:8080/",
          "height": 300
        }
      },
      "outputs": [
        {
          "output_type": "execute_result",
          "data": {
            "text/plain": [
              "         0         1         2         3         4         5         6   \\\n",
              "0  1.524141  0.100902 -0.277781  0.607735 -1.338946  0.266447  0.155632   \n",
              "1 -0.164376  0.198656 -0.103019  0.722981 -0.668529  0.374830 -0.212463   \n",
              "2 -1.261755  0.010658 -0.432459  0.738973 -0.388074  0.565570  0.352640   \n",
              "3  1.385587  0.124469  0.096091  0.187013 -0.181160  0.732237  0.145227   \n",
              "4  0.472584  0.755273 -0.438684 -0.112808 -0.691352  1.022925  2.172276   \n",
              "\n",
              "         7         8         9   ...        20        21        22        23  \\\n",
              "0  0.357077  0.080593 -0.106420  ...  0.044554 -0.031599  0.313908 -0.472234   \n",
              "1  0.518336 -0.019185  0.080872  ... -0.264842 -0.164996 -0.572053 -0.041356   \n",
              "2  0.521283  0.034556  0.133654  ...  0.141331 -0.057810 -0.039602  0.032381   \n",
              "3  0.570606  0.037385 -0.071530  ... -0.218379 -0.066820  0.425619  0.009995   \n",
              "4  0.295575  0.153970  0.576110  ... -0.241571 -0.248516 -0.941189  0.391774   \n",
              "\n",
              "         24        25        26        27        28        29  \n",
              "0 -1.811623  1.464612 -0.100400  0.088439 -0.046318 -0.309314  \n",
              "1  0.480802 -0.458851 -0.168397 -0.012830  0.216933 -0.406846  \n",
              "2 -0.555802  1.194437 -0.830397 -0.081176  0.093341  0.136230  \n",
              "3  0.220419  0.227317 -0.855021  0.054631  0.453679 -0.342238  \n",
              "4  1.097756 -0.452194  0.474879 -0.106849 -0.190130 -0.372639  \n",
              "\n",
              "[5 rows x 30 columns]"
            ],
            "text/html": [
              "\n",
              "  <div id=\"df-560b80e5-5869-40b5-a683-6c903ecdcd17\">\n",
              "    <div class=\"colab-df-container\">\n",
              "      <div>\n",
              "<style scoped>\n",
              "    .dataframe tbody tr th:only-of-type {\n",
              "        vertical-align: middle;\n",
              "    }\n",
              "\n",
              "    .dataframe tbody tr th {\n",
              "        vertical-align: top;\n",
              "    }\n",
              "\n",
              "    .dataframe thead th {\n",
              "        text-align: right;\n",
              "    }\n",
              "</style>\n",
              "<table border=\"1\" class=\"dataframe\">\n",
              "  <thead>\n",
              "    <tr style=\"text-align: right;\">\n",
              "      <th></th>\n",
              "      <th>0</th>\n",
              "      <th>1</th>\n",
              "      <th>2</th>\n",
              "      <th>3</th>\n",
              "      <th>4</th>\n",
              "      <th>5</th>\n",
              "      <th>6</th>\n",
              "      <th>7</th>\n",
              "      <th>8</th>\n",
              "      <th>9</th>\n",
              "      <th>...</th>\n",
              "      <th>20</th>\n",
              "      <th>21</th>\n",
              "      <th>22</th>\n",
              "      <th>23</th>\n",
              "      <th>24</th>\n",
              "      <th>25</th>\n",
              "      <th>26</th>\n",
              "      <th>27</th>\n",
              "      <th>28</th>\n",
              "      <th>29</th>\n",
              "    </tr>\n",
              "  </thead>\n",
              "  <tbody>\n",
              "    <tr>\n",
              "      <th>0</th>\n",
              "      <td>1.524141</td>\n",
              "      <td>0.100902</td>\n",
              "      <td>-0.277781</td>\n",
              "      <td>0.607735</td>\n",
              "      <td>-1.338946</td>\n",
              "      <td>0.266447</td>\n",
              "      <td>0.155632</td>\n",
              "      <td>0.357077</td>\n",
              "      <td>0.080593</td>\n",
              "      <td>-0.106420</td>\n",
              "      <td>...</td>\n",
              "      <td>0.044554</td>\n",
              "      <td>-0.031599</td>\n",
              "      <td>0.313908</td>\n",
              "      <td>-0.472234</td>\n",
              "      <td>-1.811623</td>\n",
              "      <td>1.464612</td>\n",
              "      <td>-0.100400</td>\n",
              "      <td>0.088439</td>\n",
              "      <td>-0.046318</td>\n",
              "      <td>-0.309314</td>\n",
              "    </tr>\n",
              "    <tr>\n",
              "      <th>1</th>\n",
              "      <td>-0.164376</td>\n",
              "      <td>0.198656</td>\n",
              "      <td>-0.103019</td>\n",
              "      <td>0.722981</td>\n",
              "      <td>-0.668529</td>\n",
              "      <td>0.374830</td>\n",
              "      <td>-0.212463</td>\n",
              "      <td>0.518336</td>\n",
              "      <td>-0.019185</td>\n",
              "      <td>0.080872</td>\n",
              "      <td>...</td>\n",
              "      <td>-0.264842</td>\n",
              "      <td>-0.164996</td>\n",
              "      <td>-0.572053</td>\n",
              "      <td>-0.041356</td>\n",
              "      <td>0.480802</td>\n",
              "      <td>-0.458851</td>\n",
              "      <td>-0.168397</td>\n",
              "      <td>-0.012830</td>\n",
              "      <td>0.216933</td>\n",
              "      <td>-0.406846</td>\n",
              "    </tr>\n",
              "    <tr>\n",
              "      <th>2</th>\n",
              "      <td>-1.261755</td>\n",
              "      <td>0.010658</td>\n",
              "      <td>-0.432459</td>\n",
              "      <td>0.738973</td>\n",
              "      <td>-0.388074</td>\n",
              "      <td>0.565570</td>\n",
              "      <td>0.352640</td>\n",
              "      <td>0.521283</td>\n",
              "      <td>0.034556</td>\n",
              "      <td>0.133654</td>\n",
              "      <td>...</td>\n",
              "      <td>0.141331</td>\n",
              "      <td>-0.057810</td>\n",
              "      <td>-0.039602</td>\n",
              "      <td>0.032381</td>\n",
              "      <td>-0.555802</td>\n",
              "      <td>1.194437</td>\n",
              "      <td>-0.830397</td>\n",
              "      <td>-0.081176</td>\n",
              "      <td>0.093341</td>\n",
              "      <td>0.136230</td>\n",
              "    </tr>\n",
              "    <tr>\n",
              "      <th>3</th>\n",
              "      <td>1.385587</td>\n",
              "      <td>0.124469</td>\n",
              "      <td>0.096091</td>\n",
              "      <td>0.187013</td>\n",
              "      <td>-0.181160</td>\n",
              "      <td>0.732237</td>\n",
              "      <td>0.145227</td>\n",
              "      <td>0.570606</td>\n",
              "      <td>0.037385</td>\n",
              "      <td>-0.071530</td>\n",
              "      <td>...</td>\n",
              "      <td>-0.218379</td>\n",
              "      <td>-0.066820</td>\n",
              "      <td>0.425619</td>\n",
              "      <td>0.009995</td>\n",
              "      <td>0.220419</td>\n",
              "      <td>0.227317</td>\n",
              "      <td>-0.855021</td>\n",
              "      <td>0.054631</td>\n",
              "      <td>0.453679</td>\n",
              "      <td>-0.342238</td>\n",
              "    </tr>\n",
              "    <tr>\n",
              "      <th>4</th>\n",
              "      <td>0.472584</td>\n",
              "      <td>0.755273</td>\n",
              "      <td>-0.438684</td>\n",
              "      <td>-0.112808</td>\n",
              "      <td>-0.691352</td>\n",
              "      <td>1.022925</td>\n",
              "      <td>2.172276</td>\n",
              "      <td>0.295575</td>\n",
              "      <td>0.153970</td>\n",
              "      <td>0.576110</td>\n",
              "      <td>...</td>\n",
              "      <td>-0.241571</td>\n",
              "      <td>-0.248516</td>\n",
              "      <td>-0.941189</td>\n",
              "      <td>0.391774</td>\n",
              "      <td>1.097756</td>\n",
              "      <td>-0.452194</td>\n",
              "      <td>0.474879</td>\n",
              "      <td>-0.106849</td>\n",
              "      <td>-0.190130</td>\n",
              "      <td>-0.372639</td>\n",
              "    </tr>\n",
              "  </tbody>\n",
              "</table>\n",
              "<p>5 rows × 30 columns</p>\n",
              "</div>\n",
              "      <button class=\"colab-df-convert\" onclick=\"convertToInteractive('df-560b80e5-5869-40b5-a683-6c903ecdcd17')\"\n",
              "              title=\"Convert this dataframe to an interactive table.\"\n",
              "              style=\"display:none;\">\n",
              "        \n",
              "  <svg xmlns=\"http://www.w3.org/2000/svg\" height=\"24px\"viewBox=\"0 0 24 24\"\n",
              "       width=\"24px\">\n",
              "    <path d=\"M0 0h24v24H0V0z\" fill=\"none\"/>\n",
              "    <path d=\"M18.56 5.44l.94 2.06.94-2.06 2.06-.94-2.06-.94-.94-2.06-.94 2.06-2.06.94zm-11 1L8.5 8.5l.94-2.06 2.06-.94-2.06-.94L8.5 2.5l-.94 2.06-2.06.94zm10 10l.94 2.06.94-2.06 2.06-.94-2.06-.94-.94-2.06-.94 2.06-2.06.94z\"/><path d=\"M17.41 7.96l-1.37-1.37c-.4-.4-.92-.59-1.43-.59-.52 0-1.04.2-1.43.59L10.3 9.45l-7.72 7.72c-.78.78-.78 2.05 0 2.83L4 21.41c.39.39.9.59 1.41.59.51 0 1.02-.2 1.41-.59l7.78-7.78 2.81-2.81c.8-.78.8-2.07 0-2.86zM5.41 20L4 18.59l7.72-7.72 1.47 1.35L5.41 20z\"/>\n",
              "  </svg>\n",
              "      </button>\n",
              "      \n",
              "  <style>\n",
              "    .colab-df-container {\n",
              "      display:flex;\n",
              "      flex-wrap:wrap;\n",
              "      gap: 12px;\n",
              "    }\n",
              "\n",
              "    .colab-df-convert {\n",
              "      background-color: #E8F0FE;\n",
              "      border: none;\n",
              "      border-radius: 50%;\n",
              "      cursor: pointer;\n",
              "      display: none;\n",
              "      fill: #1967D2;\n",
              "      height: 32px;\n",
              "      padding: 0 0 0 0;\n",
              "      width: 32px;\n",
              "    }\n",
              "\n",
              "    .colab-df-convert:hover {\n",
              "      background-color: #E2EBFA;\n",
              "      box-shadow: 0px 1px 2px rgba(60, 64, 67, 0.3), 0px 1px 3px 1px rgba(60, 64, 67, 0.15);\n",
              "      fill: #174EA6;\n",
              "    }\n",
              "\n",
              "    [theme=dark] .colab-df-convert {\n",
              "      background-color: #3B4455;\n",
              "      fill: #D2E3FC;\n",
              "    }\n",
              "\n",
              "    [theme=dark] .colab-df-convert:hover {\n",
              "      background-color: #434B5C;\n",
              "      box-shadow: 0px 1px 3px 1px rgba(0, 0, 0, 0.15);\n",
              "      filter: drop-shadow(0px 1px 2px rgba(0, 0, 0, 0.3));\n",
              "      fill: #FFFFFF;\n",
              "    }\n",
              "  </style>\n",
              "\n",
              "      <script>\n",
              "        const buttonEl =\n",
              "          document.querySelector('#df-560b80e5-5869-40b5-a683-6c903ecdcd17 button.colab-df-convert');\n",
              "        buttonEl.style.display =\n",
              "          google.colab.kernel.accessAllowed ? 'block' : 'none';\n",
              "\n",
              "        async function convertToInteractive(key) {\n",
              "          const element = document.querySelector('#df-560b80e5-5869-40b5-a683-6c903ecdcd17');\n",
              "          const dataTable =\n",
              "            await google.colab.kernel.invokeFunction('convertToInteractive',\n",
              "                                                     [key], {});\n",
              "          if (!dataTable) return;\n",
              "\n",
              "          const docLinkHtml = 'Like what you see? Visit the ' +\n",
              "            '<a target=\"_blank\" href=https://colab.research.google.com/notebooks/data_table.ipynb>data table notebook</a>'\n",
              "            + ' to learn more about interactive tables.';\n",
              "          element.innerHTML = '';\n",
              "          dataTable['output_type'] = 'display_data';\n",
              "          await google.colab.output.renderOutput(dataTable, element);\n",
              "          const docLink = document.createElement('div');\n",
              "          docLink.innerHTML = docLinkHtml;\n",
              "          element.appendChild(docLink);\n",
              "        }\n",
              "      </script>\n",
              "    </div>\n",
              "  </div>\n",
              "  "
            ]
          },
          "metadata": {},
          "execution_count": 17
        }
      ],
      "source": [
        "X_scaled = pd.DataFrame(X_scaled)\n",
        "X_scaled.head()"
      ]
    },
    {
      "cell_type": "markdown",
      "source": [
        "**TRAIN TEST SPLIT:**\n",
        "\n",
        "The train-test split procedure is used to estimate the performance of machine learning algorithms when they are used to make predictions on data not used to train the model.\n",
        "\n",
        "It is a fast and easy procedure to perform, the results of which allow you to compare the performance of machine learning algorithms for your predictive modeling problem. Although simple to use and interpret, there are times when the procedure should not be used, such as when you have a small dataset and situations where additional configuration is required, such as when it is used for classification and the dataset is not balanced."
      ],
      "metadata": {
        "id": "hFH8MvRyfYIw"
      },
      "id": "hFH8MvRyfYIw"
    },
    {
      "cell_type": "code",
      "execution_count": 18,
      "id": "a048730f",
      "metadata": {
        "execution": {
          "iopub.execute_input": "2023-04-03T21:44:53.049991Z",
          "iopub.status.busy": "2023-04-03T21:44:53.048569Z",
          "iopub.status.idle": "2023-04-03T21:44:53.130361Z",
          "shell.execute_reply": "2023-04-03T21:44:53.128662Z"
        },
        "papermill": {
          "duration": 0.100478,
          "end_time": "2023-04-03T21:44:53.134241",
          "exception": false,
          "start_time": "2023-04-03T21:44:53.033763",
          "status": "completed"
        },
        "tags": [],
        "id": "a048730f"
      },
      "outputs": [],
      "source": [
        "from sklearn.model_selection import train_test_split\n",
        "\n",
        "X_train, X_test, y_train, y_test = train_test_split(X_scaled, Y, test_size=0.20, random_state= 25, shuffle= True)"
      ]
    },
    {
      "cell_type": "code",
      "execution_count": 19,
      "id": "65a0aaf0",
      "metadata": {
        "execution": {
          "iopub.execute_input": "2023-04-03T21:44:53.157936Z",
          "iopub.status.busy": "2023-04-03T21:44:53.156769Z",
          "iopub.status.idle": "2023-04-03T21:44:53.848468Z",
          "shell.execute_reply": "2023-04-03T21:44:53.847137Z"
        },
        "papermill": {
          "duration": 0.706353,
          "end_time": "2023-04-03T21:44:53.851104",
          "exception": false,
          "start_time": "2023-04-03T21:44:53.144751",
          "status": "completed"
        },
        "tags": [],
        "id": "65a0aaf0",
        "outputId": "14dc4c06-1df4-46f5-abff-f4739926fb91",
        "colab": {
          "base_uri": "https://localhost:8080/"
        }
      },
      "outputs": [
        {
          "output_type": "stream",
          "name": "stdout",
          "text": [
            "Classification Report:\n",
            "              precision    recall  f1-score   support\n",
            "\n",
            "           0       0.94      0.98      0.96       200\n",
            "           1       0.95      0.88      0.91        96\n",
            "\n",
            "    accuracy                           0.95       296\n",
            "   macro avg       0.95      0.93      0.94       296\n",
            "weighted avg       0.95      0.95      0.95       296\n",
            "\n",
            "Accuracy:\n",
            "0.9459459459459459\n",
            "Recall:\n",
            "0.875\n",
            "F1 Score:\n",
            "0.9130434782608695\n",
            "Precision:\n",
            "0.9545454545454546\n"
          ]
        }
      ],
      "source": [
        "import xgboost as xgb\n",
        "from sklearn.metrics import confusion_matrix, roc_auc_score, roc_curve, classification_report, accuracy_score, recall_score, f1_score, precision_score\n",
        "\n",
        "# Train XGBoost classifier\n",
        "xgb_clf = xgb.XGBClassifier(n_estimators = 100)\n",
        "xgb_clf.fit(X_train, y_train)\n",
        "\n",
        "# Predict on test set\n",
        "y_pred = xgb_clf.predict(X_test)\n",
        "\n",
        "#Print Classifaction Report\n",
        "print('Classification Report:')\n",
        "print(classification_report(y_test, y_pred))\n",
        "print(\"Accuracy:\")\n",
        "print(accuracy_score(y_test, y_pred))\n",
        "print(\"Recall:\")\n",
        "print(recall_score(y_test, y_pred))\n",
        "print(\"F1 Score:\")\n",
        "print(f1_score(y_test, y_pred))\n",
        "print(\"Precision:\")\n",
        "print(precision_score(y_test, y_pred))"
      ]
    },
    {
      "cell_type": "code",
      "execution_count": 20,
      "id": "81e445e2",
      "metadata": {
        "execution": {
          "iopub.execute_input": "2023-04-03T21:44:53.875721Z",
          "iopub.status.busy": "2023-04-03T21:44:53.874715Z",
          "iopub.status.idle": "2023-04-03T21:44:54.492826Z",
          "shell.execute_reply": "2023-04-03T21:44:54.491142Z"
        },
        "papermill": {
          "duration": 0.634345,
          "end_time": "2023-04-03T21:44:54.496129",
          "exception": false,
          "start_time": "2023-04-03T21:44:53.861784",
          "status": "completed"
        },
        "tags": [],
        "id": "81e445e2",
        "outputId": "8a1b1b73-1d23-4fa3-e737-991f5ea474f2",
        "colab": {
          "base_uri": "https://localhost:8080/",
          "height": 939
        }
      },
      "outputs": [
        {
          "output_type": "stream",
          "name": "stdout",
          "text": [
            "Confusion matrix:\n"
          ]
        },
        {
          "output_type": "display_data",
          "data": {
            "text/plain": [
              "<Figure size 640x480 with 2 Axes>"
            ],
            "image/png": "[encoded data removed]"
          },
          "metadata": {}
        },
        {
          "output_type": "stream",
          "name": "stdout",
          "text": [
            "ROC-AUC score: 0.9765104166666667\n"
          ]
        },
        {
          "output_type": "display_data",
          "data": {
            "text/plain": [
              "<Figure size 640x480 with 1 Axes>"
            ],
            "image/png": "[encoded data removed]"
          },
          "metadata": {}
        }
      ],
      "source": [
        "from mlxtend.plotting import plot_confusion_matrix\n",
        "# Confusion matrix\n",
        "conf_matrix = np.array(confusion_matrix(y_test, y_pred))\n",
        "print('Confusion matrix:')\n",
        "fig, ax = plot_confusion_matrix(conf_mat=conf_matrix,\n",
        "                                show_absolute=True,\n",
        "                                show_normed=True,\n",
        "                                colorbar=True)\n",
        "plt.show()\n",
        "\n",
        "\n",
        "# ROC-AUC curve and score\n",
        "y_prob = xgb_clf.predict_proba(X_test)[:, 1]\n",
        "fpr, tpr, thresholds = roc_curve(y_test, y_prob)\n",
        "roc_auc = roc_auc_score(y_test, y_prob)\n",
        "print('ROC-AUC score:', roc_auc)\n",
        "\n",
        "\n",
        "# Plot ROC curve\n",
        "import matplotlib.pyplot as plt\n",
        "plt.plot(fpr, tpr, label='ROC curve (area = %0.2f)' % roc_auc)\n",
        "plt.plot([0, 1], [0, 1], 'k--')\n",
        "plt.xlim([0.0, 1.0])\n",
        "plt.ylim([0.0, 1.05])\n",
        "plt.xlabel('False Positive Rate')\n",
        "plt.ylabel('True Positive Rate')\n",
        "plt.title('Receiver operating characteristic curve')\n",
        "plt.legend(loc=\"lower right\")\n",
        "plt.show()"
      ]
    },
    {
      "cell_type": "code",
      "execution_count": 20,
      "id": "cd482290",
      "metadata": {
        "papermill": {
          "duration": 0.011987,
          "end_time": "2023-04-03T21:44:54.520278",
          "exception": false,
          "start_time": "2023-04-03T21:44:54.508291",
          "status": "completed"
        },
        "tags": [],
        "id": "cd482290"
      },
      "outputs": [],
      "source": []
    },
    {
      "cell_type": "markdown",
      "id": "92e8b395",
      "metadata": {
        "papermill": {
          "duration": 0.011619,
          "end_time": "2023-04-03T21:44:54.544666",
          "exception": false,
          "start_time": "2023-04-03T21:44:54.533047",
          "status": "completed"
        },
        "tags": [],
        "id": "92e8b395"
      },
      "source": [
        "# Logistic Regression"
      ]
    },
    {
      "cell_type": "markdown",
      "source": [
        "**LOGISTIC REGRESSION:**\n",
        "\n",
        "A logistic regression model predicts a dependent data variable by analyzing the relationship between one or more existing independent variables. It allows algorithms used in machine learning applications to classify incoming data based on historical data. As additional relevant data comes in, the algorithms get better at predicting classifications within data sets.Logistic regression can also play a role in data preparation activities by allowing data sets to be put into specifically predefined buckets during the extract, transform, load (ETL) process in order to stage the information for analysis."
      ],
      "metadata": {
        "id": "9s86jsWsf4E7"
      },
      "id": "9s86jsWsf4E7"
    },
    {
      "cell_type": "code",
      "execution_count": 21,
      "id": "af29d0df",
      "metadata": {
        "execution": {
          "iopub.execute_input": "2023-04-03T21:44:54.570859Z",
          "iopub.status.busy": "2023-04-03T21:44:54.570150Z",
          "iopub.status.idle": "2023-04-03T21:44:54.575652Z",
          "shell.execute_reply": "2023-04-03T21:44:54.574604Z"
        },
        "papermill": {
          "duration": 0.021591,
          "end_time": "2023-04-03T21:44:54.578240",
          "exception": false,
          "start_time": "2023-04-03T21:44:54.556649",
          "status": "completed"
        },
        "tags": [],
        "id": "af29d0df"
      },
      "outputs": [],
      "source": [
        "from sklearn.linear_model import LogisticRegression\n",
        "lr = LogisticRegression(penalty= 'l2')"
      ]
    },
    {
      "cell_type": "code",
      "execution_count": 22,
      "id": "b789c070",
      "metadata": {
        "execution": {
          "iopub.execute_input": "2023-04-03T21:44:54.604205Z",
          "iopub.status.busy": "2023-04-03T21:44:54.603514Z",
          "iopub.status.idle": "2023-04-03T21:44:54.660212Z",
          "shell.execute_reply": "2023-04-03T21:44:54.658399Z"
        },
        "papermill": {
          "duration": 0.073681,
          "end_time": "2023-04-03T21:44:54.663774",
          "exception": false,
          "start_time": "2023-04-03T21:44:54.590093",
          "status": "completed"
        },
        "tags": [],
        "id": "b789c070",
        "outputId": "cc81a135-908e-49ae-f390-65125779b743",
        "colab": {
          "base_uri": "https://localhost:8080/"
        }
      },
      "outputs": [
        {
          "output_type": "stream",
          "name": "stdout",
          "text": [
            "Classification Report:\n",
            "              precision    recall  f1-score   support\n",
            "\n",
            "           0       0.94      0.98      0.96       200\n",
            "           1       0.95      0.88      0.91        96\n",
            "\n",
            "    accuracy                           0.95       296\n",
            "   macro avg       0.95      0.93      0.94       296\n",
            "weighted avg       0.95      0.95      0.95       296\n",
            "\n",
            "Accuracy:\n",
            "0.9459459459459459\n",
            "Recall:\n",
            "0.875\n",
            "F1 Score:\n",
            "0.9130434782608695\n",
            "Precision:\n",
            "0.9545454545454546\n"
          ]
        }
      ],
      "source": [
        "lr.fit(X_train, y_train)\n",
        "\n",
        "# Predict on test set\n",
        "y_pred_lr = xgb_clf.predict(X_test)\n",
        "\n",
        "\n",
        "#Print Classifaction Report\n",
        "print('Classification Report:')\n",
        "print(classification_report(y_test, y_pred_lr))\n",
        "print(\"Accuracy:\")\n",
        "print(accuracy_score(y_test, y_pred_lr))\n",
        "print(\"Recall:\")\n",
        "print(recall_score(y_test, y_pred_lr))\n",
        "print(\"F1 Score:\")\n",
        "print(f1_score(y_test, y_pred_lr))\n",
        "print(\"Precision:\")\n",
        "print(precision_score(y_test, y_pred_lr))"
      ]
    },
    {
      "cell_type": "code",
      "execution_count": 23,
      "id": "e1275a3c",
      "metadata": {
        "execution": {
          "iopub.execute_input": "2023-04-03T21:44:54.705125Z",
          "iopub.status.busy": "2023-04-03T21:44:54.704535Z",
          "iopub.status.idle": "2023-04-03T21:44:55.188280Z",
          "shell.execute_reply": "2023-04-03T21:44:55.186438Z"
        },
        "papermill": {
          "duration": 0.50827,
          "end_time": "2023-04-03T21:44:55.191267",
          "exception": false,
          "start_time": "2023-04-03T21:44:54.682997",
          "status": "completed"
        },
        "tags": [],
        "id": "e1275a3c",
        "outputId": "502f79bf-d128-4ae1-d5f8-0967f52469b9",
        "colab": {
          "base_uri": "https://localhost:8080/",
          "height": 939
        }
      },
      "outputs": [
        {
          "output_type": "stream",
          "name": "stdout",
          "text": [
            "Confusion matrix:\n"
          ]
        },
        {
          "output_type": "display_data",
          "data": {
            "text/plain": [
              "<Figure size 640x480 with 2 Axes>"
            ],
            "image/png": "[encoded data removed]"
          },
          "metadata": {}
        },
        {
          "output_type": "stream",
          "name": "stdout",
          "text": [
            "ROC-AUC score: 0.9717708333333334\n"
          ]
        },
        {
          "output_type": "display_data",
          "data": {
            "text/plain": [
              "<Figure size 640x480 with 1 Axes>"
            ],
            "image/png": "[encoded data removed]"
          },
          "metadata": {}
        }
      ],
      "source": [
        "# Confusion matrix\n",
        "conf_matrix = np.array(confusion_matrix(y_test, y_pred_lr))\n",
        "print('Confusion matrix:')\n",
        "fig, ax = plot_confusion_matrix(conf_mat=conf_matrix,\n",
        "                                show_absolute=True,\n",
        "                                show_normed=True,\n",
        "                                colorbar=True)\n",
        "plt.show()\n",
        "\n",
        "\n",
        "# ROC-AUC curve and score\n",
        "y_prob_lr = lr.predict_proba(X_test)[:, 1]\n",
        "fpr, tpr, thresholds = roc_curve(y_test, y_prob_lr)\n",
        "roc_auc = roc_auc_score(y_test, y_prob_lr)\n",
        "print('ROC-AUC score:', roc_auc)\n",
        "\n",
        "\n",
        "# Plot ROC curve\n",
        "import matplotlib.pyplot as plt\n",
        "plt.plot(fpr, tpr, label='ROC curve (area = %0.2f)' % roc_auc)\n",
        "plt.plot([0, 1], [0, 1], 'k--')\n",
        "plt.xlim([0.0, 1.0])\n",
        "plt.ylim([0.0, 1.05])\n",
        "plt.xlabel('False Positive Rate')\n",
        "plt.ylabel('True Positive Rate')\n",
        "plt.title('Receiver operating characteristic curve')\n",
        "plt.legend(loc=\"lower right\")\n",
        "plt.show()"
      ]
    },
    {
      "cell_type": "code",
      "execution_count": 23,
      "id": "85184932",
      "metadata": {
        "papermill": {
          "duration": 0.013153,
          "end_time": "2023-04-03T21:44:55.217947",
          "exception": false,
          "start_time": "2023-04-03T21:44:55.204794",
          "status": "completed"
        },
        "tags": [],
        "id": "85184932"
      },
      "outputs": [],
      "source": []
    },
    {
      "cell_type": "markdown",
      "id": "d032c1ce",
      "metadata": {
        "papermill": {
          "duration": 0.013477,
          "end_time": "2023-04-03T21:44:55.245065",
          "exception": false,
          "start_time": "2023-04-03T21:44:55.231588",
          "status": "completed"
        },
        "tags": [],
        "id": "d032c1ce"
      },
      "source": [
        "## Neural Network Model"
      ]
    },
    {
      "cell_type": "markdown",
      "source": [
        "**NEURAL NETWORK MODEL:**\n",
        "\n",
        "A neural network is a method in artificial intelligence that teaches computers to process data in a way that is inspired by the human brain. It is a type of machine learning process, called deep learning, that uses interconnected nodes or neurons in a layered structure that resembles the human brain. It creates an adaptive system that computers use to learn from their mistakes and improve continuously. Thus, artificial neural networks attempt to solve complicated problems, like summarizing documents or recognizing faces, with greater accuracy."
      ],
      "metadata": {
        "id": "_qVMxUGCA1_J"
      },
      "id": "_qVMxUGCA1_J"
    },
    {
      "cell_type": "code",
      "execution_count": 24,
      "id": "c35ee931",
      "metadata": {
        "execution": {
          "iopub.execute_input": "2023-04-03T21:44:55.274316Z",
          "iopub.status.busy": "2023-04-03T21:44:55.273826Z",
          "iopub.status.idle": "2023-04-03T21:44:57.356313Z",
          "shell.execute_reply": "2023-04-03T21:44:57.354372Z"
        },
        "papermill": {
          "duration": 2.102846,
          "end_time": "2023-04-03T21:44:57.361851",
          "exception": false,
          "start_time": "2023-04-03T21:44:55.259005",
          "status": "completed"
        },
        "tags": [],
        "id": "c35ee931",
        "outputId": "6d69ae46-a07a-4f0e-9fab-9b38c8ec939f",
        "colab": {
          "base_uri": "https://localhost:8080/"
        }
      },
      "outputs": [
        {
          "output_type": "stream",
          "name": "stdout",
          "text": [
            "MLPClassifier accuracy: 94.93%\n"
          ]
        }
      ],
      "source": [
        "from sklearn.neural_network import MLPClassifier\n",
        "\n",
        "# Create an instance of the MLPClassifier\n",
        "mlp = MLPClassifier(hidden_layer_sizes=(100,), max_iter=1000, activation = 'logistic')\n",
        "\n",
        "# Train the MLPClassifier on the training data\n",
        "mlp.fit(X_train, y_train)\n",
        "\n",
        "# Evaluate the MLPClassifier on the testing data\n",
        "score = mlp.score(X_test, y_test)\n",
        "print(\"MLPClassifier accuracy: {:.2f}%\".format(score * 100))"
      ]
    },
    {
      "cell_type": "code",
      "execution_count": 25,
      "id": "b20411b4",
      "metadata": {
        "execution": {
          "iopub.execute_input": "2023-04-03T21:44:57.411359Z",
          "iopub.status.busy": "2023-04-03T21:44:57.410473Z",
          "iopub.status.idle": "2023-04-03T21:44:57.450217Z",
          "shell.execute_reply": "2023-04-03T21:44:57.448596Z"
        },
        "papermill": {
          "duration": 0.068185,
          "end_time": "2023-04-03T21:44:57.454692",
          "exception": false,
          "start_time": "2023-04-03T21:44:57.386507",
          "status": "completed"
        },
        "tags": [],
        "id": "b20411b4",
        "outputId": "8f3da597-3c28-46cf-e79f-3576c7e52a9e",
        "colab": {
          "base_uri": "https://localhost:8080/"
        }
      },
      "outputs": [
        {
          "output_type": "stream",
          "name": "stdout",
          "text": [
            "Classification Report:\n",
            "              precision    recall  f1-score   support\n",
            "\n",
            "           0       0.94      0.98      0.96       200\n",
            "           1       0.97      0.88      0.92        96\n",
            "\n",
            "    accuracy                           0.95       296\n",
            "   macro avg       0.95      0.93      0.94       296\n",
            "weighted avg       0.95      0.95      0.95       296\n",
            "\n",
            "Accuracy:\n",
            "0.9493243243243243\n",
            "Recall:\n",
            "0.875\n",
            "F1 Score:\n",
            "0.9180327868852458\n",
            "Precision:\n",
            "0.9655172413793104\n"
          ]
        }
      ],
      "source": [
        "# Predict on test set\n",
        "y_pred_mlp = mlp.predict(X_test)\n",
        "\n",
        "\n",
        "#Print Classifaction Report\n",
        "print('Classification Report:')\n",
        "print(classification_report(y_test, y_pred_mlp))\n",
        "print(\"Accuracy:\")\n",
        "print(accuracy_score(y_test, y_pred_mlp))\n",
        "print(\"Recall:\")\n",
        "print(recall_score(y_test, y_pred_mlp))\n",
        "print(\"F1 Score:\")\n",
        "print(f1_score(y_test, y_pred_mlp))\n",
        "print(\"Precision:\")\n",
        "print(precision_score(y_test, y_pred_mlp))"
      ]
    },
    {
      "cell_type": "code",
      "execution_count": 26,
      "id": "4ed8793c",
      "metadata": {
        "execution": {
          "iopub.execute_input": "2023-04-03T21:44:57.507212Z",
          "iopub.status.busy": "2023-04-03T21:44:57.506290Z",
          "iopub.status.idle": "2023-04-03T21:44:58.010909Z",
          "shell.execute_reply": "2023-04-03T21:44:58.009755Z"
        },
        "papermill": {
          "duration": 0.533236,
          "end_time": "2023-04-03T21:44:58.013592",
          "exception": false,
          "start_time": "2023-04-03T21:44:57.480356",
          "status": "completed"
        },
        "tags": [],
        "id": "4ed8793c",
        "outputId": "aaef1492-9dde-4442-e697-2e849a1e99c2",
        "colab": {
          "base_uri": "https://localhost:8080/",
          "height": 939
        }
      },
      "outputs": [
        {
          "output_type": "stream",
          "name": "stdout",
          "text": [
            "Confusion matrix:\n"
          ]
        },
        {
          "output_type": "display_data",
          "data": {
            "text/plain": [
              "<Figure size 640x480 with 2 Axes>"
            ],
            "image/png": "[encoded data removed]"
          },
          "metadata": {}
        },
        {
          "output_type": "stream",
          "name": "stdout",
          "text": [
            "ROC-AUC score: 0.973125\n"
          ]
        },
        {
          "output_type": "display_data",
          "data": {
            "text/plain": [
              "<Figure size 640x480 with 1 Axes>"
            ],
            "image/png": "[encoded data removed]"
          },
          "metadata": {}
        }
      ],
      "source": [
        "# Confusion matrix\n",
        "conf_matrix = np.array(confusion_matrix(y_test, y_pred_mlp))\n",
        "print('Confusion matrix:')\n",
        "fig, ax = plot_confusion_matrix(conf_mat=conf_matrix,\n",
        "                                show_absolute=True,\n",
        "                                show_normed=True,\n",
        "                                colorbar=True)\n",
        "plt.show()\n",
        "\n",
        "\n",
        "# ROC-AUC curve and score\n",
        "y_prob_mlp = mlp.predict_proba(X_test)[:, 1]\n",
        "fpr, tpr, thresholds = roc_curve(y_test, y_prob_mlp)\n",
        "roc_auc = roc_auc_score(y_test, y_prob_mlp)\n",
        "print('ROC-AUC score:', roc_auc)\n",
        "\n",
        "\n",
        "# Plot ROC curve\n",
        "import matplotlib.pyplot as plt\n",
        "plt.plot(fpr, tpr, label='ROC curve (area = %0.2f)' % roc_auc)\n",
        "plt.plot([0, 1], [0, 1], 'k--')\n",
        "plt.xlim([0.0, 1.0])\n",
        "plt.ylim([0.0, 1.05])\n",
        "plt.xlabel('False Positive Rate')\n",
        "plt.ylabel('True Positive Rate')\n",
        "plt.title('Receiver operating characteristic curve')\n",
        "plt.legend(loc=\"lower right\")\n",
        "plt.show()"
      ]
    }
  ],
  "metadata": {
    "kernelspec": {
      "display_name": "Python 3",
      "language": "python",
      "name": "python3"
    },
    "language_info": {
      "codemirror_mode": {
        "name": "ipython",
        "version": 3
      },
      "file_extension": ".py",
      "mimetype": "text/x-python",
      "name": "python",
      "nbconvert_exporter": "python",
      "pygments_lexer": "ipython3",
      "version": "3.7.12"
    },
    "papermill": {
      "default_parameters": {},
      "duration": 24.266068,
      "end_time": "2023-04-03T21:44:58.879034",
      "environment_variables": {},
      "exception": null,
      "input_path": "__notebook__.ipynb",
      "output_path": "__notebook__.ipynb",
      "parameters": {},
      "start_time": "2023-04-03T21:44:34.612966",
      "version": "2.4.0"
    },
    "colab": {
      "provenance": []
    }
  },
  "nbformat": 4,
  "nbformat_minor": 5
}